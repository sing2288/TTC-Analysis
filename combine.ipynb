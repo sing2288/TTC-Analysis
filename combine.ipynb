{
 "cells": [
  {
   "cell_type": "code",
   "execution_count": null,
   "metadata": {},
   "outputs": [],
   "source": [
    "import pandas as pd\n",
    "\n",
    "year = 2014\n",
    "df = pd.DataFrame()\n",
    "\n",
    "while year < 2024:\n",
    "    fileName = \"ttc-bus-delay-data-\" + str(year) + \".xlsx\"\n",
    "    xls = pd.ExcelFile(fileName)\n",
    "    sheetNames = xls.sheet_names\n",
    "\n",
    "    for sheet_name in sheetNames:\n",
    "        tempDf = pd.read_excel(fileName, sheet_name=sheet_name)\n",
    "        df = pd.concat([df, tempDf], ignore_index=True)\n",
    "        print(sheet_name + \" Added.\")\n",
    "    \n",
    "    year = year + 1\n",
    "\n",
    "# Now 'df' contains the concatenated data from all sheets in all Excel files\n",
    "df.to_excel(\"TTC_Bus_Delay.xlsx\")"
   ]
  },
  {
   "cell_type": "code",
   "execution_count": null,
   "metadata": {},
   "outputs": [],
   "source": []
  }
 ],
 "metadata": {
  "kernelspec": {
   "display_name": "Python 3",
   "language": "python",
   "name": "python3"
  },
  "language_info": {
   "codemirror_mode": {
    "name": "ipython",
    "version": 3
   },
   "file_extension": ".py",
   "mimetype": "text/x-python",
   "name": "python",
   "nbconvert_exporter": "python",
   "pygments_lexer": "ipython3",
   "version": "3.11.5"
  }
 },
 "nbformat": 4,
 "nbformat_minor": 2
}
